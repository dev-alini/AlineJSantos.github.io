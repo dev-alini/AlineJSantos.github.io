{
  "nbformat": 4,
  "nbformat_minor": 0,
  "metadata": {
    "colab": {
      "provenance": [],
      "authorship_tag": "ABX9TyNbaJFbnWABujjTB7JoX2Xw",
      "include_colab_link": true
    },
    "kernelspec": {
      "name": "python3",
      "display_name": "Python 3"
    },
    "language_info": {
      "name": "python"
    }
  },
  "cells": [
    {
      "cell_type": "markdown",
      "metadata": {
        "id": "view-in-github",
        "colab_type": "text"
      },
      "source": [
        "<a href=\"https://colab.research.google.com/github/dev-alini/AlineJSantos.github.io/blob/main/Curso_Pandas_CDB_2025.ipynb\" target=\"_parent\"><img src=\"https://colab.research.google.com/assets/colab-badge.svg\" alt=\"Open In Colab\"/></a>"
      ]
    },
    {
      "cell_type": "code",
      "execution_count": null,
      "metadata": {
        "id": "mrlUZK8vAlIn"
      },
      "outputs": [],
      "source": []
    },
    {
      "cell_type": "markdown",
      "source": [
        "## **Lendo os dados**"
      ],
      "metadata": {
        "id": "P6xel_7kPGar"
      }
    },
    {
      "cell_type": "markdown",
      "source": [
        "## **Tipos de dados**"
      ],
      "metadata": {
        "id": "eBd-ZW7BP-t5"
      }
    },
    {
      "cell_type": "markdown",
      "source": [
        "## **Explorar os dados**"
      ],
      "metadata": {
        "id": "M60lzzDBQWDt"
      }
    },
    {
      "cell_type": "markdown",
      "source": [
        "## **Analise dos dados (EDA)**"
      ],
      "metadata": {
        "id": "IeCqS3ObPMk7"
      }
    },
    {
      "cell_type": "markdown",
      "source": [
        "## **Valores NULOS**"
      ],
      "metadata": {
        "id": "8Asf1H0sPbCK"
      }
    },
    {
      "cell_type": "markdown",
      "source": [
        "## **Aplicar Filtros**"
      ],
      "metadata": {
        "id": "S2FXRmmKPg2i"
      }
    },
    {
      "cell_type": "markdown",
      "source": [
        "# **Filtro1-ANO**"
      ],
      "metadata": {
        "id": "RCx0QIqnlZCb"
      }
    },
    {
      "cell_type": "markdown",
      "source": [
        "# **Filtro2-VALOR**"
      ],
      "metadata": {
        "id": "qn5xhgkvl2r_"
      }
    },
    {
      "cell_type": "markdown",
      "source": [
        "## **Salvar os dados**"
      ],
      "metadata": {
        "id": "fqspyBKKPlrC"
      }
    }
  ]
}